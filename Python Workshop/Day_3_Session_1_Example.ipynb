{
  "nbformat": 4,
  "nbformat_minor": 0,
  "metadata": {
    "colab": {
      "name": "Day_3_Session_1_Example.ipynb",
      "provenance": [],
      "authorship_tag": "ABX9TyMuEli9VzBs01omt7z0UHQR",
      "include_colab_link": true
    },
    "kernelspec": {
      "name": "python3",
      "display_name": "Python 3"
    }
  },
  "cells": [
    {
      "cell_type": "markdown",
      "metadata": {
        "id": "view-in-github",
        "colab_type": "text"
      },
      "source": [
        "<a href=\"https://colab.research.google.com/github/alvas-education-foundation/swastik-gowda/blob/master/Day_3_Session_1_Example.ipynb\" target=\"_parent\"><img src=\"https://colab.research.google.com/assets/colab-badge.svg\" alt=\"Open In Colab\"/></a>"
      ]
    },
    {
      "cell_type": "markdown",
      "metadata": {
        "id": "1h0TjY4IXTSx",
        "colab_type": "text"
      },
      "source": [
        "Program for prime number -bad code"
      ]
    },
    {
      "cell_type": "code",
      "metadata": {
        "id": "zgvrlJC6W_yG",
        "colab_type": "code",
        "colab": {
          "base_uri": "https://localhost:8080/",
          "height": 34
        },
        "outputId": "0536b8b8-43e6-48de-b910-4cc9fd0340c4"
      },
      "source": [
        "\n",
        "i=25\n",
        "for x in range(2, i//2+1):\n",
        "      if i%x==0:\n",
        "         print(\"The number {} is not prime\".format(i))\n",
        "         break\n",
        "if x ==i//2:\n",
        "   print (\"{} is a prime number\".format(i))"
      ],
      "execution_count": 1,
      "outputs": [
        {
          "output_type": "stream",
          "text": [
            "The number 25 is not prime\n"
          ],
          "name": "stdout"
        }
      ]
    },
    {
      "cell_type": "markdown",
      "metadata": {
        "id": "HVqviqPFXcUv",
        "colab_type": "text"
      },
      "source": [
        "Good code using for... else"
      ]
    },
    {
      "cell_type": "code",
      "metadata": {
        "id": "pvMr4X5sXd8G",
        "colab_type": "code",
        "colab": {
          "base_uri": "https://localhost:8080/",
          "height": 34
        },
        "outputId": "ab898e56-7a86-4d87-c307-dab531015dfb"
      },
      "source": [
        "\n",
        "i=25\n",
        "for x in range(2, i//2+1):\n",
        "      if i%x==0:\n",
        "         print(\"The number {} is not prime\".format(i))\n",
        "         break\n",
        "else:\n",
        "    print (\"{} is a prime number\".format(i))"
      ],
      "execution_count": 2,
      "outputs": [
        {
          "output_type": "stream",
          "text": [
            "The number 25 is not prime\n"
          ],
          "name": "stdout"
        }
      ]
    },
    {
      "cell_type": "markdown",
      "metadata": {
        "id": "OEd9_gsqXlvN",
        "colab_type": "text"
      },
      "source": [
        "Using Unpacking to Write Concise Code"
      ]
    },
    {
      "cell_type": "code",
      "metadata": {
        "id": "hpFC1JZzXncO",
        "colab_type": "code",
        "colab": {
          "base_uri": "https://localhost:8080/",
          "height": 52
        },
        "outputId": "e5c7b0ae-ca99-4bb0-eff4-53c2a1a16f5b"
      },
      "source": [
        "a, b = 2, 'my-string'\n",
        "print(a)\n",
        "print(b)"
      ],
      "execution_count": 3,
      "outputs": [
        {
          "output_type": "stream",
          "text": [
            "2\n",
            "my-string\n"
          ],
          "name": "stdout"
        }
      ]
    },
    {
      "cell_type": "markdown",
      "metadata": {
        "id": "s8dD5iMYXq8d",
        "colab_type": "text"
      },
      "source": [
        "Bad unpacking"
      ]
    },
    {
      "cell_type": "code",
      "metadata": {
        "id": "x1PlZvlaXwz3",
        "colab_type": "code",
        "colab": {
          "base_uri": "https://localhost:8080/",
          "height": 34
        },
        "outputId": "591625fa-1e42-4016-ea9b-66604a049214"
      },
      "source": [
        "x = (1, 2, 4, 8, 16)\n",
        "a = x[0]\n",
        "b = x[1]\n",
        "c = x[2]\n",
        "d = x[3]\n",
        "e = x[4]\n",
        "print(a, b, c, d, e)"
      ],
      "execution_count": 4,
      "outputs": [
        {
          "output_type": "stream",
          "text": [
            "1 2 4 8 16\n"
          ],
          "name": "stdout"
        }
      ]
    },
    {
      "cell_type": "markdown",
      "metadata": {
        "id": "Xfpe_CzQX1aG",
        "colab_type": "text"
      },
      "source": [
        "Excellent unpacking"
      ]
    },
    {
      "cell_type": "code",
      "metadata": {
        "id": "8CorKGhUX5Oo",
        "colab_type": "code",
        "colab": {
          "base_uri": "https://localhost:8080/",
          "height": 34
        },
        "outputId": "db5e9ade-c32f-49aa-b2fc-0860eb81220a"
      },
      "source": [
        "a,b,c,d,e=x\n",
        "print(a, b, c, d, e)"
      ],
      "execution_count": 5,
      "outputs": [
        {
          "output_type": "stream",
          "text": [
            "1 2 4 8 16\n"
          ],
          "name": "stdout"
        }
      ]
    },
    {
      "cell_type": "markdown",
      "metadata": {
        "id": "lxjbnDy5X9XN",
        "colab_type": "text"
      },
      "source": [
        "unpacking some elements"
      ]
    },
    {
      "cell_type": "code",
      "metadata": {
        "id": "4Nl-tApZYCm9",
        "colab_type": "code",
        "colab": {
          "base_uri": "https://localhost:8080/",
          "height": 70
        },
        "outputId": "bc830ddc-6e50-446a-999a-94c220324ac9"
      },
      "source": [
        "a, *y, e = x\n",
        "print(a)\n",
        "print(y)\n",
        "print(e)"
      ],
      "execution_count": 6,
      "outputs": [
        {
          "output_type": "stream",
          "text": [
            "1\n",
            "[2, 4, 8]\n",
            "16\n"
          ],
          "name": "stdout"
        }
      ]
    },
    {
      "cell_type": "markdown",
      "metadata": {
        "id": "h01k60TnYFA_",
        "colab_type": "text"
      },
      "source": [
        "\n",
        "Using Chaining to Write Concise Code"
      ]
    },
    {
      "cell_type": "code",
      "metadata": {
        "id": "AsqXySjiYKut",
        "colab_type": "code",
        "colab": {
          "base_uri": "https://localhost:8080/",
          "height": 34
        },
        "outputId": "04729200-3776-4011-bb87-d5486d45dd0b"
      },
      "source": [
        "x = 4\n",
        "print(x >= 2 and x <= 8)"
      ],
      "execution_count": 7,
      "outputs": [
        {
          "output_type": "stream",
          "text": [
            "True\n"
          ],
          "name": "stdout"
        }
      ]
    },
    {
      "cell_type": "code",
      "metadata": {
        "id": "FiGJAPPuYO61",
        "colab_type": "code",
        "colab": {
          "base_uri": "https://localhost:8080/",
          "height": 52
        },
        "outputId": "bed9175d-302a-4e0b-93b9-2632ce02b2da"
      },
      "source": [
        "#Instead, you can write this in a more compact form, like mathematicians do:\n",
        "print(2 <= x <= 8)\n",
        "print(2 <= x <= 3)"
      ],
      "execution_count": 8,
      "outputs": [
        {
          "output_type": "stream",
          "text": [
            "True\n",
            "False\n"
          ],
          "name": "stdout"
        }
      ]
    },
    {
      "cell_type": "code",
      "metadata": {
        "id": "CuqQReG2YSM-",
        "colab_type": "code",
        "colab": {
          "base_uri": "https://localhost:8080/",
          "height": 34
        },
        "outputId": "2e2f8cbf-894c-4b6f-9ecd-70d8cc04bd67"
      },
      "source": [
        "\n",
        "x = y = z = 2\n",
        "x, y, z # when we use , it becomes tuple"
      ],
      "execution_count": 9,
      "outputs": [
        {
          "output_type": "execute_result",
          "data": {
            "text/plain": [
              "(2, 2, 2)"
            ]
          },
          "metadata": {
            "tags": []
          },
          "execution_count": 9
        }
      ]
    },
    {
      "cell_type": "markdown",
      "metadata": {
        "id": "C70TniIAYYl-",
        "colab_type": "text"
      },
      "source": [
        "\n",
        "Checking against None"
      ]
    },
    {
      "cell_type": "code",
      "metadata": {
        "id": "VXxKybAwYVGn",
        "colab_type": "code",
        "colab": {
          "base_uri": "https://localhost:8080/",
          "height": 87
        },
        "outputId": "535e8007-9991-42ab-b02b-c7fd7c196dda"
      },
      "source": [
        "# normal way\n",
        "x, y = 2, None\n",
        "print(x == None)\n",
        "print(y == None)\n",
        "print(x != None)\n",
        "print(y != None)"
      ],
      "execution_count": 10,
      "outputs": [
        {
          "output_type": "stream",
          "text": [
            "False\n",
            "True\n",
            "True\n",
            "False\n"
          ],
          "name": "stdout"
        }
      ]
    },
    {
      "cell_type": "code",
      "metadata": {
        "id": "T6IFYGUvYdxF",
        "colab_type": "code",
        "colab": {
          "base_uri": "https://localhost:8080/",
          "height": 87
        },
        "outputId": "ee7eb788-4614-42e3-fb0f-ee5d043619b6"
      },
      "source": [
        "#In pythonic way\n",
        "x is None\n",
        "print(x is None)\n",
        "print(y is None)\n",
        "print(x is not None)\n",
        "print(y is not None)"
      ],
      "execution_count": 11,
      "outputs": [
        {
          "output_type": "stream",
          "text": [
            "False\n",
            "True\n",
            "True\n",
            "False\n"
          ],
          "name": "stdout"
        }
      ]
    },
    {
      "cell_type": "markdown",
      "metadata": {
        "id": "PF9zwtpCYlZP",
        "colab_type": "text"
      },
      "source": [
        "\n",
        "Iterating over Sequences"
      ]
    },
    {
      "cell_type": "code",
      "metadata": {
        "id": "Gc_D3RFbYsYH",
        "colab_type": "code",
        "colab": {
          "base_uri": "https://localhost:8080/",
          "height": 105
        },
        "outputId": "ce9deae9-c20d-42d1-f82c-8aa53399315b"
      },
      "source": [
        "\n",
        "x = [1, 2, 4, 8, 16]\n",
        "for i in range(len(x)):\n",
        "  print(x[i])"
      ],
      "execution_count": 12,
      "outputs": [
        {
          "output_type": "stream",
          "text": [
            "1\n",
            "2\n",
            "4\n",
            "8\n",
            "16\n"
          ],
          "name": "stdout"
        }
      ]
    },
    {
      "cell_type": "markdown",
      "metadata": {
        "id": "CbSGVzQDYxp9",
        "colab_type": "text"
      },
      "source": [
        "But instead we can do like this in elegant way"
      ]
    },
    {
      "cell_type": "code",
      "metadata": {
        "id": "1QIuLN_VY0O9",
        "colab_type": "code",
        "colab": {
          "base_uri": "https://localhost:8080/",
          "height": 105
        },
        "outputId": "b1a9f7d0-b25b-4b4e-d40a-04c44c7b463a"
      },
      "source": [
        "\n",
        "for item in x:\n",
        "  print(item)"
      ],
      "execution_count": 13,
      "outputs": [
        {
          "output_type": "stream",
          "text": [
            "1\n",
            "2\n",
            "4\n",
            "8\n",
            "16\n"
          ],
          "name": "stdout"
        }
      ]
    },
    {
      "cell_type": "markdown",
      "metadata": {
        "id": "W1WPk171Y7_f",
        "colab_type": "text"
      },
      "source": [
        "to iterate in the reversed order"
      ]
    },
    {
      "cell_type": "code",
      "metadata": {
        "id": "rBePb8obY7Qn",
        "colab_type": "code",
        "colab": {
          "base_uri": "https://localhost:8080/",
          "height": 105
        },
        "outputId": "76ba89f5-6bdb-46c6-8f08-71ee2d704c30"
      },
      "source": [
        "for i in range(len(x)-1, -1, -1):\n",
        "  print(x[i])"
      ],
      "execution_count": 14,
      "outputs": [
        {
          "output_type": "stream",
          "text": [
            "16\n",
            "8\n",
            "4\n",
            "2\n",
            "1\n"
          ],
          "name": "stdout"
        }
      ]
    },
    {
      "cell_type": "code",
      "metadata": {
        "id": "cx9DZcclZGrn",
        "colab_type": "code",
        "colab": {
          "base_uri": "https://localhost:8080/",
          "height": 105
        },
        "outputId": "7e217af9-2bd2-40bc-cbf4-cfb5fc3490f8"
      },
      "source": [
        "\n",
        "#But in elegant way!\n",
        "for item in x[::-1]:\n",
        "  print(item)"
      ],
      "execution_count": 15,
      "outputs": [
        {
          "output_type": "stream",
          "text": [
            "16\n",
            "8\n",
            "4\n",
            "2\n",
            "1\n"
          ],
          "name": "stdout"
        }
      ]
    },
    {
      "cell_type": "code",
      "metadata": {
        "id": "H3addIkNZJU2",
        "colab_type": "code",
        "colab": {
          "base_uri": "https://localhost:8080/",
          "height": 105
        },
        "outputId": "7067c6e0-1261-471d-a5de-e70bf0c14e5f"
      },
      "source": [
        "#The Pythonic way is to use reversed to get an iterator that yields the items of a\n",
        "for item in reversed(x):\n",
        "  print(item)"
      ],
      "execution_count": 17,
      "outputs": [
        {
          "output_type": "stream",
          "text": [
            "16\n",
            "8\n",
            "4\n",
            "2\n",
            "1\n"
          ],
          "name": "stdout"
        }
      ]
    },
    {
      "cell_type": "code",
      "metadata": {
        "id": "2J_CBSL4ZMOv",
        "colab_type": "code",
        "colab": {
          "base_uri": "https://localhost:8080/",
          "height": 105
        },
        "outputId": "39d45370-db44-4534-89de-f05472f9d3f3"
      },
      "source": [
        "#what if you want to iterate over two or more sequences? Of course, you can use the\n",
        "y = 'abcde'\n",
        "for i in range(len(x)):\n",
        "  print(x[i], y[i])"
      ],
      "execution_count": 16,
      "outputs": [
        {
          "output_type": "stream",
          "text": [
            "1 a\n",
            "2 b\n",
            "4 c\n",
            "8 d\n",
            "16 e\n"
          ],
          "name": "stdout"
        }
      ]
    },
    {
      "cell_type": "code",
      "metadata": {
        "id": "YNICgpGxZQQA",
        "colab_type": "code",
        "colab": {
          "base_uri": "https://localhost:8080/",
          "height": 105
        },
        "outputId": "2bae6e35-c720-4326-9393-9a7c66694f4d"
      },
      "source": [
        "#In this case, Python also offers a better solution. You can apply zip and get tuples of the\n",
        "for item in zip(x, y):\n",
        "  print(item)\n"
      ],
      "execution_count": 18,
      "outputs": [
        {
          "output_type": "stream",
          "text": [
            "(1, 'a')\n",
            "(2, 'b')\n",
            "(4, 'c')\n",
            "(8, 'd')\n",
            "(16, 'e')\n"
          ],
          "name": "stdout"
        }
      ]
    }
  ]
}