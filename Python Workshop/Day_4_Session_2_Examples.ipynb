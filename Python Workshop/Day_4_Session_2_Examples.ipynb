{
  "nbformat": 4,
  "nbformat_minor": 0,
  "metadata": {
    "colab": {
      "name": "Day_4_Session_2_Examples.ipynb",
      "provenance": [],
      "authorship_tag": "ABX9TyMSCcLkTfj+/Y1Ssi4fTEVh",
      "include_colab_link": true
    },
    "kernelspec": {
      "name": "python3",
      "display_name": "Python 3"
    }
  },
  "cells": [
    {
      "cell_type": "markdown",
      "metadata": {
        "id": "view-in-github",
        "colab_type": "text"
      },
      "source": [
        "<a href=\"https://colab.research.google.com/github/alvas-education-foundation/swastik-gowda/blob/master/Day_4_Session_2_Examples.ipynb\" target=\"_parent\"><img src=\"https://colab.research.google.com/assets/colab-badge.svg\" alt=\"Open In Colab\"/></a>"
      ]
    },
    {
      "cell_type": "code",
      "metadata": {
        "id": "YEOHDzDKupAM",
        "colab_type": "code",
        "colab": {
          "base_uri": "https://localhost:8080/",
          "height": 34
        },
        "outputId": "7a4a138e-8b55-425a-bbe6-d6b308ab99ea"
      },
      "source": [
        "#Example #1\n",
        "\n",
        "x=[1, 2, 3, 4, 5, 6]\n",
        "print([(element * 2) for element in x])"
      ],
      "execution_count": 1,
      "outputs": [
        {
          "output_type": "stream",
          "text": [
            "[2, 4, 6, 8, 10, 12]\n"
          ],
          "name": "stdout"
        }
      ]
    },
    {
      "cell_type": "code",
      "metadata": {
        "id": "VoarGfpsuvtS",
        "colab_type": "code",
        "colab": {
          "base_uri": "https://localhost:8080/",
          "height": 34
        },
        "outputId": "d247de64-4455-4b8c-8dec-4242c09bbfa0"
      },
      "source": [
        "#Example #2\n",
        "\n",
        "x=[1, 2, 3, 4, 5, 6, 7, 8, 9, 10]\n",
        "[(element * 2 if element % 2 == 0 else element) for element in x]"
      ],
      "execution_count": 2,
      "outputs": [
        {
          "output_type": "execute_result",
          "data": {
            "text/plain": [
              "[1, 4, 3, 8, 5, 12, 7, 16, 9, 20]"
            ]
          },
          "metadata": {
            "tags": []
          },
          "execution_count": 2
        }
      ]
    },
    {
      "cell_type": "code",
      "metadata": {
        "id": "S6Qz430zuzF_",
        "colab_type": "code",
        "colab": {
          "base_uri": "https://localhost:8080/",
          "height": 34
        },
        "outputId": "240edc45-07f6-424c-efec-0a55fd027e96"
      },
      "source": [
        "#Example #3 filtering only even numbers\n",
        "\n",
        "x=[1, 2, 3, 4, 5, 6, 7, 8, 9, 10]\n",
        "[element * 2 for element in x if element % 2 == 0]"
      ],
      "execution_count": 3,
      "outputs": [
        {
          "output_type": "execute_result",
          "data": {
            "text/plain": [
              "[4, 8, 12, 16, 20]"
            ]
          },
          "metadata": {
            "tags": []
          },
          "execution_count": 3
        }
      ]
    },
    {
      "cell_type": "code",
      "metadata": {
        "id": "zijz_QSvu1Tv",
        "colab_type": "code",
        "colab": {
          "base_uri": "https://localhost:8080/",
          "height": 53
        },
        "outputId": "c00fa162-5d4e-4517-8bb8-b01f30f0c4af"
      },
      "source": [
        "#How to Choose Names\n",
        "\n",
        "name = 'John Smith'\n",
        "first_name, last_name = name.split()\n",
        "print(last_name, first_name, sep=', ')\n",
        "'Smith, John'"
      ],
      "execution_count": 4,
      "outputs": [
        {
          "output_type": "stream",
          "text": [
            "Smith, John\n"
          ],
          "name": "stdout"
        },
        {
          "output_type": "execute_result",
          "data": {
            "application/vnd.google.colaboratory.intrinsic+json": {
              "type": "string"
            },
            "text/plain": [
              "'Smith, John'"
            ]
          },
          "metadata": {
            "tags": []
          },
          "execution_count": 4
        }
      ]
    },
    {
      "cell_type": "code",
      "metadata": {
        "id": "k4HATmP6u82G",
        "colab_type": "code",
        "colab": {}
      },
      "source": [
        "#Code Layout\n",
        "\n",
        "class MyFirstClass:\n",
        "    pass\n",
        "\n",
        "\n",
        "class MySecondClass:\n",
        "    pass\n",
        "\n",
        "\n",
        "def top_level_function():\n",
        "    return None"
      ],
      "execution_count": 8,
      "outputs": []
    },
    {
      "cell_type": "code",
      "metadata": {
        "id": "dulTdhS4vBvO",
        "colab_type": "code",
        "colab": {}
      },
      "source": [
        "class MyClass:\n",
        "    def first_method(self):\n",
        "        return None\n",
        "\n",
        "    def second_method(self):\n",
        "        return None"
      ],
      "execution_count": 6,
      "outputs": []
    },
    {
      "cell_type": "code",
      "metadata": {
        "id": "ExJ6g2F0vIUv",
        "colab_type": "code",
        "colab": {}
      },
      "source": [
        "def calculate_variance(number_list):\n",
        "   sum_list = 0\n",
        "   for number in number_list:\n",
        "        sum_list = sum_list + number\n",
        "   mean = sum_list / len(number_list)\n",
        "   sum_squares = 0\n",
        "   for number in number_list:\n",
        "     sum_squares = sum_squares + number**2\n",
        "     mean_squares = sum_squares / len(number_list)\n",
        "  return mean_squares - mean**2"
      ],
      "execution_count": null,
      "outputs": []
    }
  ]
}