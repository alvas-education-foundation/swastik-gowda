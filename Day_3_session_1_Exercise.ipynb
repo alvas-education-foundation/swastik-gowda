{
  "nbformat": 4,
  "nbformat_minor": 0,
  "metadata": {
    "colab": {
      "name": "Day_3_session_1_Exercise.ipynb",
      "provenance": [],
      "authorship_tag": "ABX9TyMC3SfRo+oLk8xD8h0KCY5R",
      "include_colab_link": true
    },
    "kernelspec": {
      "name": "python3",
      "display_name": "Python 3"
    }
  },
  "cells": [
    {
      "cell_type": "markdown",
      "metadata": {
        "id": "view-in-github",
        "colab_type": "text"
      },
      "source": [
        "<a href=\"https://colab.research.google.com/github/alvas-education-foundation/swastik-gowda/blob/master/Day_3_session_1_Exercise.ipynb\" target=\"_parent\"><img src=\"https://colab.research.google.com/assets/colab-badge.svg\" alt=\"Open In Colab\"/></a>"
      ]
    },
    {
      "cell_type": "markdown",
      "metadata": {
        "id": "uIKf9OYZagfe",
        "colab_type": "text"
      },
      "source": [
        "Write a Python program to find numbers between 100 and 400 (both included) which are divisable both by 5 or 7. The numbers obtained should be printed in a comma-separated sequence"
      ]
    },
    {
      "cell_type": "code",
      "metadata": {
        "id": "wP2SM0Q5aaQq",
        "colab_type": "code",
        "colab": {
          "base_uri": "https://localhost:8080/",
          "height": 54
        },
        "outputId": "2a1f9018-d585-4a06-ee07-2cc8278e87a5"
      },
      "source": [
        "a = [print(x,end = ',') for x in range(100,401) if x%5 is 0 or x%7 is 0]"
      ],
      "execution_count": 1,
      "outputs": [
        {
          "output_type": "stream",
          "text": [
            "100,105,110,112,115,119,120,125,126,130,133,135,140,145,147,150,154,155,160,161,165,168,170,175,180,182,185,189,190,195,196,200,203,205,210,215,217,220,224,225,230,231,235,238,240,245,250,252,255,259,260,265,266,270,273,275,280,285,287,290,294,295,300,301,305,308,310,315,320,322,325,329,330,335,336,340,343,345,350,355,357,360,364,365,370,371,375,378,380,385,390,392,395,399,400,"
          ],
          "name": "stdout"
        }
      ]
    },
    {
      "cell_type": "markdown",
      "metadata": {
        "id": "PD2ND4f4an0k",
        "colab_type": "text"
      },
      "source": [
        "Write a Python program to find prime numbers between 200 and 600 (both included). The numbers obtained should be printed in a comma-separated sequence"
      ]
    },
    {
      "cell_type": "code",
      "metadata": {
        "id": "zLj9RuaDao49",
        "colab_type": "code",
        "colab": {
          "base_uri": "https://localhost:8080/",
          "height": 54
        },
        "outputId": "fe4fa908-0bc2-47a1-eff4-334e698c838c"
      },
      "source": [
        "for x in range(200,601):\n",
        "  for y in range(2,x//2+1):\n",
        "    if x%y == 0:\n",
        "      break\n",
        "  else:\n",
        "    print(x,end=',')"
      ],
      "execution_count": 2,
      "outputs": [
        {
          "output_type": "stream",
          "text": [
            "211,223,227,229,233,239,241,251,257,263,269,271,277,281,283,293,307,311,313,317,331,337,347,349,353,359,367,373,379,383,389,397,401,409,419,421,431,433,439,443,449,457,461,463,467,479,487,491,499,503,509,521,523,541,547,557,563,569,571,577,587,593,599,"
          ],
          "name": "stdout"
        }
      ]
    },
    {
      "cell_type": "markdown",
      "metadata": {
        "id": "Kj-ef5EUavdd",
        "colab_type": "text"
      },
      "source": [
        "\n",
        "Write a Python program to find All Numbers which are Odd and Palindromes Between a Range of Numbers without using Recursion. The numbers obtained should be printed in a comma-separated sequence"
      ]
    },
    {
      "cell_type": "code",
      "metadata": {
        "id": "ghzjEg2hawvM",
        "colab_type": "code",
        "colab": {
          "base_uri": "https://localhost:8080/",
          "height": 70
        },
        "outputId": "423ec5e2-e08d-4506-ca2b-d7f4d0a24119"
      },
      "source": [
        "a = [print(x,end=',') for x in range(int(input('Enter Lower range: ')),int(input('Enter Upper range: '))) if x%2 and str(x) == str(x)[::-1]]"
      ],
      "execution_count": 3,
      "outputs": [
        {
          "output_type": "stream",
          "text": [
            "Enter Lower range: 2\n",
            "Enter Upper range: 8\n",
            "3,5,7,"
          ],
          "name": "stdout"
        }
      ]
    },
    {
      "cell_type": "markdown",
      "metadata": {
        "id": "FOxHV4Ova0Ln",
        "colab_type": "text"
      },
      "source": [
        "Write a Python Program to read a number n and print the series “5+10+…..+n = sum upto n ” . The numbers should be printed as they are shown in the quotes with sum of numbers upto n"
      ]
    },
    {
      "cell_type": "code",
      "metadata": {
        "id": "I_74LSr-a30t",
        "colab_type": "code",
        "colab": {
          "base_uri": "https://localhost:8080/",
          "height": 52
        },
        "outputId": "ae5bd297-f019-4686-82d7-f66dbfe839c4"
      },
      "source": [
        "\n",
        "arr = [x for x in range(5,int(input('Enter a no: '))+1,5)]\n",
        "print('+'.join([str(i) for i in arr]),'=',sum(arr))"
      ],
      "execution_count": 4,
      "outputs": [
        {
          "output_type": "stream",
          "text": [
            "Enter a no: 16\n",
            "5+10+15 = 30\n"
          ],
          "name": "stdout"
        }
      ]
    }
  ]
}