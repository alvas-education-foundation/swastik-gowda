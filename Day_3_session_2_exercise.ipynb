{
  "nbformat": 4,
  "nbformat_minor": 0,
  "metadata": {
    "colab": {
      "name": "Day_3_session_2_exercise.ipynb",
      "provenance": [],
      "authorship_tag": "ABX9TyPOVZEPNKd3t4lhETc3oUvq",
      "include_colab_link": true
    },
    "kernelspec": {
      "name": "python3",
      "display_name": "Python 3"
    }
  },
  "cells": [
    {
      "cell_type": "markdown",
      "metadata": {
        "id": "view-in-github",
        "colab_type": "text"
      },
      "source": [
        "<a href=\"https://colab.research.google.com/github/alvas-education-foundation/swastik-gowda/blob/master/Day_3_session_2_exercise.ipynb\" target=\"_parent\"><img src=\"https://colab.research.google.com/assets/colab-badge.svg\" alt=\"Open In Colab\"/></a>"
      ]
    },
    {
      "cell_type": "code",
      "metadata": {
        "id": "r9Do65qpedph",
        "colab_type": "code",
        "colab": {
          "base_uri": "https://localhost:8080/",
          "height": 212
        },
        "outputId": "973cdf2e-3506-4164-c06a-7cf26d419655"
      },
      "source": [
        "#Write a Python Program to Print Multiplication Table of a number which got through keyboard\n",
        "\n",
        "n = int(input('Enter a no: '))\n",
        "arr = [print(n,'x',x,'=',n*x) for x in range(1,11)]"
      ],
      "execution_count": 4,
      "outputs": [
        {
          "output_type": "stream",
          "text": [
            "Enter a no: 8\n",
            "8 x 1 = 8\n",
            "8 x 2 = 16\n",
            "8 x 3 = 24\n",
            "8 x 4 = 32\n",
            "8 x 5 = 40\n",
            "8 x 6 = 48\n",
            "8 x 7 = 56\n",
            "8 x 8 = 64\n",
            "8 x 9 = 72\n",
            "8 x 10 = 80\n"
          ],
          "name": "stdout"
        }
      ]
    },
    {
      "cell_type": "code",
      "metadata": {
        "id": "BRbQx3oHfFXG",
        "colab_type": "code",
        "colab": {
          "base_uri": "https://localhost:8080/",
          "height": 34
        },
        "outputId": "017a7a38-d4c7-4e59-dcb0-bc182eb58cd2"
      },
      "source": [
        "#Write a Python Program to find the Armstrong Numbers between 1 and 2000 ( i.e 153 is amtrong numbers as 13+53+3**3=153 )\n",
        "\n",
        "for x in range(1,2000):\n",
        "  i = str(x)\n",
        "  l = len(i)\n",
        "  ex = []\n",
        "  for y in range(l):\n",
        "    ex.append(i[y]+'**'+str(l))\n",
        "  if eval('+'.join(ex)) == x:\n",
        "    print(x,end = ' ')"
      ],
      "execution_count": 1,
      "outputs": [
        {
          "output_type": "stream",
          "text": [
            "1 2 3 4 5 6 7 8 9 153 370 371 407 1634 "
          ],
          "name": "stdout"
        }
      ]
    },
    {
      "cell_type": "code",
      "metadata": {
        "id": "wZ7RPWZRfLWj",
        "colab_type": "code",
        "colab": {
          "base_uri": "https://localhost:8080/",
          "height": 283
        },
        "outputId": "624db921-7b61-4bda-eb58-10cb6e29617b"
      },
      "source": [
        "#Write a python program to get the list of tuples (rollno, name) for n students by getting rollno and name through keyboard. Sort and print them as rollno wise and name wise both ascending and descending as well as alphabetical and dealphabetical orders\n",
        "\n",
        "import operator\n",
        "arr = [(int(input('Enter rollno %d: '%(x))),input('Enter name %d: '%(x))) for x in range(1,int(input('Enter no of students: '))+1)]\n",
        "print('Student details based on rollno in ascending order',sorted(arr))\n",
        "print('Student details based on rollno in descending order',sorted(arr,reverse = True))\n",
        "print('Student details based on name in ascending order',sorted(arr,key = operator.itemgetter(1)))\n",
        "print('Student details based on name in descending order',sorted(arr,key = operator.itemgetter(1),reverse = True))"
      ],
      "execution_count": 2,
      "outputs": [
        {
          "output_type": "stream",
          "text": [
            "Enter no of students: 5\n",
            "Enter rollno 1: 10\n",
            "Enter name 1: Yudhishtira\n",
            "Enter rollno 2: 20\n",
            "Enter name 2: Bheema\n",
            "Enter rollno 3: 25\n",
            "Enter name 3: Arjuna\n",
            "Enter rollno 4: 30\n",
            "Enter name 4: Nakula\n",
            "Enter rollno 5: 50\n",
            "Enter name 5: Sahadev\n",
            "Student details based on rollno in ascending order [(10, 'Yudhishtira'), (20, 'Bheema'), (25, 'Arjuna'), (30, 'Nakula'), (50, 'Sahadev')]\n",
            "Student details based on rollno in descending order [(50, 'Sahadev'), (30, 'Nakula'), (25, 'Arjuna'), (20, 'Bheema'), (10, 'Yudhishtira')]\n",
            "Student details based on name in ascending order [(25, 'Arjuna'), (20, 'Bheema'), (30, 'Nakula'), (50, 'Sahadev'), (10, 'Yudhishtira')]\n",
            "Student details based on name in descending order [(10, 'Yudhishtira'), (50, 'Sahadev'), (30, 'Nakula'), (20, 'Bheema'), (25, 'Arjuna')]\n"
          ],
          "name": "stdout"
        }
      ]
    },
    {
      "cell_type": "code",
      "metadata": {
        "id": "mhyTMitefPcT",
        "colab_type": "code",
        "colab": {
          "base_uri": "https://localhost:8080/",
          "height": 70
        },
        "outputId": "d2f7b96c-e93a-4f44-8a3e-2b4a151c2e3a"
      },
      "source": [
        "#Python Program to Detect if Two Strings are Anagrams ( They are the two strings which have same length and same words which may be different in their order)\n",
        "\n",
        "s1 = input('Enter the 1st string: ')\n",
        "s2 = input('Enter the 2nd string: ')\n",
        "if len(s1) == len(s2) and sorted(set(s1)) == sorted(set(s2)):\n",
        "  print('Strings are Anagrams')\n",
        "else:\n",
        "  print('Strings are not Anagrams')"
      ],
      "execution_count": 3,
      "outputs": [
        {
          "output_type": "stream",
          "text": [
            "Enter the 1st string: Arjun\n",
            "Enter the 2nd string: Nakul\n",
            "Strings are not Anagrams\n"
          ],
          "name": "stdout"
        }
      ]
    }
  ]
}