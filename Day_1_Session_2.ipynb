{
  "nbformat": 4,
  "nbformat_minor": 0,
  "metadata": {
    "colab": {
      "name": "Untitled2.ipynb",
      "provenance": [],
      "authorship_tag": "ABX9TyPGBr0oq/QkgViB2LyVkwgx",
      "include_colab_link": true
    },
    "kernelspec": {
      "name": "python3",
      "display_name": "Python 3"
    }
  },
  "cells": [
    {
      "cell_type": "markdown",
      "metadata": {
        "id": "view-in-github",
        "colab_type": "text"
      },
      "source": [
        "<a href=\"https://colab.research.google.com/github/alvas-education-foundation/swastik-gowda/blob/master/Day_1_Session_2.ipynb\" target=\"_parent\"><img src=\"https://colab.research.google.com/assets/colab-badge.svg\" alt=\"Open In Colab\"/></a>"
      ]
    },
    {
      "cell_type": "markdown",
      "metadata": {
        "id": "ewqby_LivwUw",
        "colab_type": "text"
      },
      "source": [
        "Write a program to print the triangle i/p 4"
      ]
    },
    {
      "cell_type": "code",
      "metadata": {
        "id": "nlmjaMePvill",
        "colab_type": "code",
        "colab": {
          "base_uri": "https://localhost:8080/",
          "height": 119
        },
        "outputId": "f448ff31-b930-47ab-e27a-e44016505b3b"
      },
      "source": [
        "#1\n",
        "n=int(input(\"Enter the Number \"));\n",
        "for i in range(n+1):\n",
        "    for j in range(i):\n",
        "        print (j+i ,end=\" \")\n",
        "    print('')"
      ],
      "execution_count": 1,
      "outputs": [
        {
          "output_type": "stream",
          "text": [
            "Enter the Number 4\n",
            "\n",
            "1 \n",
            "2 3 \n",
            "3 4 5 \n",
            "4 5 6 7 \n"
          ],
          "name": "stdout"
        }
      ]
    },
    {
      "cell_type": "markdown",
      "metadata": {
        "id": "KzkeeZ6cv8M0",
        "colab_type": "text"
      },
      "source": [
        "Enter number 4 as input and print stars"
      ]
    },
    {
      "cell_type": "code",
      "metadata": {
        "id": "GUS3_zS-v_N4",
        "colab_type": "code",
        "colab": {
          "base_uri": "https://localhost:8080/",
          "height": 102
        },
        "outputId": "69b4c4c5-4421-4970-b305-4d0810b957cb"
      },
      "source": [
        "#2\n",
        "def pypart(n):  \n",
        "    for i in range(0, n): \n",
        "        for j in range(0, i+1): \n",
        "            print(\"* \",end=\"\") \n",
        "        print(\"\\r\") \n",
        "n=int(input(\"Enter the Number \"));\n",
        "pypart(n)"
      ],
      "execution_count": 3,
      "outputs": [
        {
          "output_type": "stream",
          "text": [
            "Enter the Number 4\n",
            "* \n",
            "* * \n",
            "* * * \n",
            "* * * * \n"
          ],
          "name": "stdout"
        }
      ]
    },
    {
      "cell_type": "markdown",
      "metadata": {
        "id": "vKFow1KKwYjJ",
        "colab_type": "text"
      },
      "source": [
        "Enter number 5 and print traingle"
      ]
    },
    {
      "cell_type": "code",
      "metadata": {
        "id": "NwMGUQLrwcy3",
        "colab_type": "code",
        "colab": {
          "base_uri": "https://localhost:8080/",
          "height": 136
        },
        "outputId": "9c97127e-3d5e-4ec2-f616-854501504985"
      },
      "source": [
        "\n",
        "#3\n",
        "n=int(input(\"Enter the Number \"));\n",
        "for i in range(n+1):\n",
        "    for j in range(i,0,-1 ):\n",
        "        print (n-j+1 ,end=\" \")\n",
        "    print('')"
      ],
      "execution_count": 4,
      "outputs": [
        {
          "output_type": "stream",
          "text": [
            "Enter the Number 5\n",
            "\n",
            "5 \n",
            "4 5 \n",
            "3 4 5 \n",
            "2 3 4 5 \n",
            "1 2 3 4 5 \n"
          ],
          "name": "stdout"
        }
      ]
    },
    {
      "cell_type": "markdown",
      "metadata": {
        "id": "fZO4IEtfwkFp",
        "colab_type": "text"
      },
      "source": [
        "\n",
        "Enter number 5 and print triangle"
      ]
    },
    {
      "cell_type": "code",
      "metadata": {
        "id": "LPoAU7KJwmwJ",
        "colab_type": "code",
        "colab": {
          "base_uri": "https://localhost:8080/",
          "height": 136
        },
        "outputId": "f4d818a1-ea2b-4afe-b02c-f051c06eb14e"
      },
      "source": [
        "#4\n",
        "n=int(input(\"Enter the Number:\"));\n",
        "for i in range(0,n+1):\n",
        "    for j in range(n-i, 0, -1):\n",
        "        print (j , end=\" \")\n",
        "    print(' ')"
      ],
      "execution_count": 5,
      "outputs": [
        {
          "output_type": "stream",
          "text": [
            "Enter the Number:5\n",
            "5 4 3 2 1  \n",
            "4 3 2 1  \n",
            "3 2 1  \n",
            "2 1  \n",
            "1  \n",
            " \n"
          ],
          "name": "stdout"
        }
      ]
    },
    {
      "cell_type": "markdown",
      "metadata": {
        "id": "pVWKUPC7w_7f",
        "colab_type": "text"
      },
      "source": [
        "Enter number 5 and print triangle"
      ]
    },
    {
      "cell_type": "code",
      "metadata": {
        "id": "b-aC4ebVxBDf",
        "colab_type": "code",
        "colab": {
          "base_uri": "https://localhost:8080/",
          "height": 170
        },
        "outputId": "06a08baa-a9cc-49dd-da83-1a2f5b36b821"
      },
      "source": [
        "#5\n",
        "n=int(input(\"Enter the Number:\"));\n",
        "for i in range(0,n+1,1):\n",
        "    print(\"\")\n",
        "    for j in range(i+1,n+1,1):\n",
        "        print(j,end=\" \")\n",
        "    \n",
        "for i in range(1,n):\n",
        "    for j in range(i+1,0,-1):\n",
        "        print(n-j+1,end=\" \")\n",
        "    print('')"
      ],
      "execution_count": 23,
      "outputs": [
        {
          "output_type": "stream",
          "text": [
            "Enter the Number:4\n",
            "\n",
            "1 2 3 4 \n",
            "2 3 4 \n",
            "3 4 \n",
            "4 \n",
            "3 4 \n",
            "2 3 4 \n",
            "1 2 3 4 \n"
          ],
          "name": "stdout"
        }
      ]
    },
    {
      "cell_type": "markdown",
      "metadata": {
        "id": "w440Y9uizuHU",
        "colab_type": "text"
      },
      "source": [
        "Find the length of a string without using len functions"
      ]
    },
    {
      "cell_type": "code",
      "metadata": {
        "id": "yjAA83ERzxjP",
        "colab_type": "code",
        "colab": {
          "base_uri": "https://localhost:8080/",
          "height": 51
        },
        "outputId": "ec2be494-9b32-4be8-be89-16bf2f338a4c"
      },
      "source": [
        "#6\n",
        "str = input(\"Enter a string: \")\n",
        "count = 0\n",
        "for s in str:\n",
        "      count = count+1\n",
        "print(\"Length of the input string is:\", count)"
      ],
      "execution_count": 24,
      "outputs": [
        {
          "output_type": "stream",
          "text": [
            "Enter a string: Swastik\n",
            "Length of the input string is: 7\n"
          ],
          "name": "stdout"
        }
      ]
    },
    {
      "cell_type": "markdown",
      "metadata": {
        "id": "ef7a0Omwz646",
        "colab_type": "text"
      },
      "source": [
        "\n",
        "Find the no of words and characters in a string"
      ]
    },
    {
      "cell_type": "code",
      "metadata": {
        "id": "zjlKf81lz71-",
        "colab_type": "code",
        "colab": {
          "base_uri": "https://localhost:8080/",
          "height": 68
        },
        "outputId": "bc60509c-43c9-4c38-b3b8-0d008a831157"
      },
      "source": [
        "\n",
        "#7\n",
        "string=input(\"Enter string:\")\n",
        "word=1\n",
        "for i in string:\n",
        "      if(i==' '):\n",
        "            word=word+1\n",
        "print(\"Number of words in the string:\")\n",
        "print(word)"
      ],
      "execution_count": 25,
      "outputs": [
        {
          "output_type": "stream",
          "text": [
            "Enter string:It is what it is though we don't know what it is\n",
            "Number of words in the string:\n",
            "12\n"
          ],
          "name": "stdout"
        }
      ]
    },
    {
      "cell_type": "markdown",
      "metadata": {
        "id": "Q3TWDyz90aV_",
        "colab_type": "text"
      },
      "source": [
        "Find the no of occurrences of a word in a string"
      ]
    },
    {
      "cell_type": "code",
      "metadata": {
        "id": "Wcpx-j3s0P6n",
        "colab_type": "code",
        "colab": {
          "base_uri": "https://localhost:8080/",
          "height": 70
        },
        "outputId": "697806fc-db1b-4fea-c5db-dd07c626689b"
      },
      "source": [
        "#8\n",
        "def countOccurences(str, word): \n",
        "    a = str.split(\" \") \n",
        "    count = 0\n",
        "    for i in range(0, len(a)): \n",
        "        if (word == a[i]): \n",
        "           count = count + 1\n",
        "    return count        \n",
        "str =input(\"Enter the sentence:\")\n",
        "word =input(\"Enter the word:\")\n",
        "print(\"The word is repeated:\",countOccurences(str, word),\"times\")"
      ],
      "execution_count": 26,
      "outputs": [
        {
          "output_type": "stream",
          "text": [
            "Enter the sentence:It is what it is even though we don't know what it actually is\n",
            "Enter the word:is\n",
            "The word is repeated: 3 times\n"
          ],
          "name": "stdout"
        }
      ]
    }
  ]
}