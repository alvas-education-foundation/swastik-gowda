{
  "nbformat": 4,
  "nbformat_minor": 0,
  "metadata": {
    "colab": {
      "name": "Day_2_Session_1_Exercises.ipynb",
      "provenance": [],
      "authorship_tag": "ABX9TyNj7DpgGS1y22dhk8+cWjpB",
      "include_colab_link": true
    },
    "kernelspec": {
      "name": "python3",
      "display_name": "Python 3"
    }
  },
  "cells": [
    {
      "cell_type": "markdown",
      "metadata": {
        "id": "view-in-github",
        "colab_type": "text"
      },
      "source": [
        "<a href=\"https://colab.research.google.com/github/alvas-education-foundation/swastik-gowda/blob/master/Day_2_Session_1_Exercises.ipynb\" target=\"_parent\"><img src=\"https://colab.research.google.com/assets/colab-badge.svg\" alt=\"Open In Colab\"/></a>"
      ]
    },
    {
      "cell_type": "markdown",
      "metadata": {
        "id": "TpfW3ldZFJi5",
        "colab_type": "text"
      },
      "source": [
        "\n",
        "print multiples of 3 upto 200 using a list"
      ]
    },
    {
      "cell_type": "code",
      "metadata": {
        "id": "bpUkdhu_FDlp",
        "colab_type": "code",
        "colab": {
          "base_uri": "https://localhost:8080/",
          "height": 54
        },
        "outputId": "9b743f99-7430-4f05-ff7e-f7963e7492cd"
      },
      "source": [
        "a=[]\n",
        "c=1\n",
        "for i in range(0,200):\n",
        "    m=3*c\n",
        "    if m<200:\n",
        "        a.append(m)\n",
        "        c=c+1\n",
        "print(a,end=\"\")"
      ],
      "execution_count": 1,
      "outputs": [
        {
          "output_type": "stream",
          "text": [
            "[3, 6, 9, 12, 15, 18, 21, 24, 27, 30, 33, 36, 39, 42, 45, 48, 51, 54, 57, 60, 63, 66, 69, 72, 75, 78, 81, 84, 87, 90, 93, 96, 99, 102, 105, 108, 111, 114, 117, 120, 123, 126, 129, 132, 135, 138, 141, 144, 147, 150, 153, 156, 159, 162, 165, 168, 171, 174, 177, 180, 183, 186, 189, 192, 195, 198]"
          ],
          "name": "stdout"
        }
      ]
    },
    {
      "cell_type": "code",
      "metadata": {
        "id": "Wry4m8OfFYCn",
        "colab_type": "code",
        "colab": {
          "base_uri": "https://localhost:8080/",
          "height": 87
        },
        "outputId": "e0676bc5-42bc-44f3-8d14-7646cdf5f546"
      },
      "source": [
        "#The above program can also be written using numpy\n",
        "import numpy as np\n",
        "x = np.arange(1,200)\n",
        "n= x[(x % 3 == 0)]\n",
        "print(n[:200])"
      ],
      "execution_count": 2,
      "outputs": [
        {
          "output_type": "stream",
          "text": [
            "[  3   6   9  12  15  18  21  24  27  30  33  36  39  42  45  48  51  54\n",
            "  57  60  63  66  69  72  75  78  81  84  87  90  93  96  99 102 105 108\n",
            " 111 114 117 120 123 126 129 132 135 138 141 144 147 150 153 156 159 162\n",
            " 165 168 171 174 177 180 183 186 189 192 195 198]\n"
          ],
          "name": "stdout"
        }
      ]
    },
    {
      "cell_type": "markdown",
      "metadata": {
        "id": "yoaqqLLOFeqn",
        "colab_type": "text"
      },
      "source": [
        "\n",
        "print the nos only divisable by 5 and 7 between 1000 and 2000 using a list( both inclusive)"
      ]
    },
    {
      "cell_type": "code",
      "metadata": {
        "id": "31vwKoiiFiH3",
        "colab_type": "code",
        "colab": {
          "base_uri": "https://localhost:8080/",
          "height": 90
        },
        "outputId": "0898aed8-57ec-44f7-aeaf-6c749f6d1757"
      },
      "source": [
        "a=[]\n",
        "b=[]\n",
        "for i in range(1000,2000):\n",
        "    if i%5==0:\n",
        "        a.append(i)\n",
        "    if i%7==0:\n",
        "        b.append(i)\n",
        "print(\"The numbers which are divisible by 5 are:\",a,end=\"\")\n",
        "print(\"\\n\")\n",
        "print(\"The numbers which are divisible by 7 are:\",b,end=\"\")"
      ],
      "execution_count": 3,
      "outputs": [
        {
          "output_type": "stream",
          "text": [
            "The numbers which are divisible by 5 are: [1000, 1005, 1010, 1015, 1020, 1025, 1030, 1035, 1040, 1045, 1050, 1055, 1060, 1065, 1070, 1075, 1080, 1085, 1090, 1095, 1100, 1105, 1110, 1115, 1120, 1125, 1130, 1135, 1140, 1145, 1150, 1155, 1160, 1165, 1170, 1175, 1180, 1185, 1190, 1195, 1200, 1205, 1210, 1215, 1220, 1225, 1230, 1235, 1240, 1245, 1250, 1255, 1260, 1265, 1270, 1275, 1280, 1285, 1290, 1295, 1300, 1305, 1310, 1315, 1320, 1325, 1330, 1335, 1340, 1345, 1350, 1355, 1360, 1365, 1370, 1375, 1380, 1385, 1390, 1395, 1400, 1405, 1410, 1415, 1420, 1425, 1430, 1435, 1440, 1445, 1450, 1455, 1460, 1465, 1470, 1475, 1480, 1485, 1490, 1495, 1500, 1505, 1510, 1515, 1520, 1525, 1530, 1535, 1540, 1545, 1550, 1555, 1560, 1565, 1570, 1575, 1580, 1585, 1590, 1595, 1600, 1605, 1610, 1615, 1620, 1625, 1630, 1635, 1640, 1645, 1650, 1655, 1660, 1665, 1670, 1675, 1680, 1685, 1690, 1695, 1700, 1705, 1710, 1715, 1720, 1725, 1730, 1735, 1740, 1745, 1750, 1755, 1760, 1765, 1770, 1775, 1780, 1785, 1790, 1795, 1800, 1805, 1810, 1815, 1820, 1825, 1830, 1835, 1840, 1845, 1850, 1855, 1860, 1865, 1870, 1875, 1880, 1885, 1890, 1895, 1900, 1905, 1910, 1915, 1920, 1925, 1930, 1935, 1940, 1945, 1950, 1955, 1960, 1965, 1970, 1975, 1980, 1985, 1990, 1995]\n",
            "\n",
            "The numbers which are divisible by 7 are: [1001, 1008, 1015, 1022, 1029, 1036, 1043, 1050, 1057, 1064, 1071, 1078, 1085, 1092, 1099, 1106, 1113, 1120, 1127, 1134, 1141, 1148, 1155, 1162, 1169, 1176, 1183, 1190, 1197, 1204, 1211, 1218, 1225, 1232, 1239, 1246, 1253, 1260, 1267, 1274, 1281, 1288, 1295, 1302, 1309, 1316, 1323, 1330, 1337, 1344, 1351, 1358, 1365, 1372, 1379, 1386, 1393, 1400, 1407, 1414, 1421, 1428, 1435, 1442, 1449, 1456, 1463, 1470, 1477, 1484, 1491, 1498, 1505, 1512, 1519, 1526, 1533, 1540, 1547, 1554, 1561, 1568, 1575, 1582, 1589, 1596, 1603, 1610, 1617, 1624, 1631, 1638, 1645, 1652, 1659, 1666, 1673, 1680, 1687, 1694, 1701, 1708, 1715, 1722, 1729, 1736, 1743, 1750, 1757, 1764, 1771, 1778, 1785, 1792, 1799, 1806, 1813, 1820, 1827, 1834, 1841, 1848, 1855, 1862, 1869, 1876, 1883, 1890, 1897, 1904, 1911, 1918, 1925, 1932, 1939, 1946, 1953, 1960, 1967, 1974, 1981, 1988, 1995]"
          ],
          "name": "stdout"
        }
      ]
    },
    {
      "cell_type": "markdown",
      "metadata": {
        "id": "oE8eNKlSFrM4",
        "colab_type": "text"
      },
      "source": [
        "Add the n number of names in a list and print them alphabetically and reverse alphabetically."
      ]
    },
    {
      "cell_type": "code",
      "metadata": {
        "id": "LMDy4xeHFsOJ",
        "colab_type": "code",
        "colab": {
          "base_uri": "https://localhost:8080/",
          "height": 141
        },
        "outputId": "74a9913e-c8bd-4013-f33d-172fe9429995"
      },
      "source": [
        "my_str = input(\"Enter a string: \")\n",
        "\n",
        "# breakdown the string into a list of words\n",
        "words = my_str.split()\n",
        "\n",
        "# sort the list\n",
        "words.sort()\n",
        "\n",
        "# display the sorted words\n",
        "\n",
        "print(\"The sorted words are:\")\n",
        "for word in words:\n",
        "   print(word)\n",
        "\n",
        "#reverse the words in list\n",
        "words.reverse()\n",
        "\n",
        "#display the reversed words\n",
        "print(\"The reverse words are:\")\n",
        "for wor in words:\n",
        "   print(wor)"
      ],
      "execution_count": 5,
      "outputs": [
        {
          "output_type": "stream",
          "text": [
            "Enter a string: Swastik Gowda\n",
            "The sorted words are:\n",
            "Gowda\n",
            "Swastik\n",
            "The reverse words are:\n",
            "Swastik\n",
            "Gowda\n"
          ],
          "name": "stdout"
        }
      ]
    },
    {
      "cell_type": "markdown",
      "metadata": {
        "id": "xDGmLwuBGDJn",
        "colab_type": "text"
      },
      "source": [
        "Print perfect squares and divisible by 5 between 500 and 1000( (both inclusive) using list"
      ]
    },
    {
      "cell_type": "code",
      "metadata": {
        "id": "4FOd9veUGHY3",
        "colab_type": "code",
        "colab": {
          "base_uri": "https://localhost:8080/",
          "height": 125
        },
        "outputId": "dc44d6cb-8a94-4a0b-fde4-c38af7a1a918"
      },
      "source": [
        "a=[]\n",
        "b=[]\n",
        "c=[]\n",
        "import math\n",
        "for i in range(500,1000):\n",
        "    sr = math.sqrt(i)\n",
        "    if sr-math.floor(sr)==0:\n",
        "        a.append(i)\n",
        "        b.append(sr)\n",
        "    if i%5==0:\n",
        "        c.append(i)\n",
        "print(\"Perfect squares in the given range are:\",a,end=\" \")\n",
        "print(\"\\n\")\n",
        "print(\"Squares of above numbers are:\",b,end=\" \")\n",
        "print(\"\\n\")\n",
        "print(\"Numbers which are divisible by 5 are:\",c,end=\" \")"
      ],
      "execution_count": 6,
      "outputs": [
        {
          "output_type": "stream",
          "text": [
            "Perfect squares in the given range are: [529, 576, 625, 676, 729, 784, 841, 900, 961] \n",
            "\n",
            "Squares of above numbers are: [23.0, 24.0, 25.0, 26.0, 27.0, 28.0, 29.0, 30.0, 31.0] \n",
            "\n",
            "Numbers which are divisible by 5 are: [500, 505, 510, 515, 520, 525, 530, 535, 540, 545, 550, 555, 560, 565, 570, 575, 580, 585, 590, 595, 600, 605, 610, 615, 620, 625, 630, 635, 640, 645, 650, 655, 660, 665, 670, 675, 680, 685, 690, 695, 700, 705, 710, 715, 720, 725, 730, 735, 740, 745, 750, 755, 760, 765, 770, 775, 780, 785, 790, 795, 800, 805, 810, 815, 820, 825, 830, 835, 840, 845, 850, 855, 860, 865, 870, 875, 880, 885, 890, 895, 900, 905, 910, 915, 920, 925, 930, 935, 940, 945, 950, 955, 960, 965, 970, 975, 980, 985, 990, 995] "
          ],
          "name": "stdout"
        }
      ]
    },
    {
      "cell_type": "markdown",
      "metadata": {
        "id": "qe0Zu1z7GOgh",
        "colab_type": "text"
      },
      "source": [
        "Calculate the Average of the numbers in a List by getting the elements of list from keyboard"
      ]
    },
    {
      "cell_type": "code",
      "metadata": {
        "id": "LLbrxdAbGPXo",
        "colab_type": "code",
        "colab": {
          "base_uri": "https://localhost:8080/",
          "height": 123
        },
        "outputId": "fa1eaa76-428d-485b-dfa3-2d2f28432dd8"
      },
      "source": [
        "\n",
        "n=int(input(\"Enter the number of elements to be inserted: \"))\n",
        "a=[]\n",
        "for i in range(0,n):\n",
        "    p=int(input(\"Enter element: \"))\n",
        "    a.append(p)\n",
        "avg=sum(a)/n\n",
        "print(\"Average of elements in the list\",round(avg,3))"
      ],
      "execution_count": 7,
      "outputs": [
        {
          "output_type": "stream",
          "text": [
            "Enter the number of elements to be inserted: 4\n",
            "Enter element: 10\n",
            "Enter element: 25\n",
            "Enter element: 37\n",
            "Enter element: 44\n",
            "Average of elements in the list 29.0\n"
          ],
          "name": "stdout"
        }
      ]
    },
    {
      "cell_type": "markdown",
      "metadata": {
        "id": "7S9LcskFGa7H",
        "colab_type": "text"
      },
      "source": [
        "\n",
        "Print lists of odd,even and multiples of 5 numbers from 1 to 1000 using list comprehension"
      ]
    },
    {
      "cell_type": "code",
      "metadata": {
        "id": "zA8PKqJvGcAC",
        "colab_type": "code",
        "colab": {
          "base_uri": "https://localhost:8080/",
          "height": 52
        },
        "outputId": "9b36aead-de0c-495f-c660-42bc17aa8763"
      },
      "source": [
        "\n",
        "list1 = [9,2,4,5,8,7,21,67,96] \n",
        "even_nos = [num for num in list1 if num % 2 == 0] \n",
        "print(\"Even numbers in the list: \", even_nos)\n",
        "odd_nos = [num for num in list1 if num % 2 != 0] \n",
        "print(\"Odd numbers in the list: \", odd_nos)"
      ],
      "execution_count": 8,
      "outputs": [
        {
          "output_type": "stream",
          "text": [
            "Even numbers in the list:  [2, 4, 8, 96]\n",
            "Odd numbers in the list:  [9, 5, 7, 21, 67]\n"
          ],
          "name": "stdout"
        }
      ]
    },
    {
      "cell_type": "markdown",
      "metadata": {
        "id": "_u4xpATKGhTx",
        "colab_type": "text"
      },
      "source": [
        "**TUPLE EXERCISES**"
      ]
    },
    {
      "cell_type": "markdown",
      "metadata": {
        "id": "m4k2mV-gGk-P",
        "colab_type": "text"
      },
      "source": [
        "Python Program to Create a List of Tuples with the First Element as the Number and Second Element as the Square of the Number"
      ]
    },
    {
      "cell_type": "code",
      "metadata": {
        "id": "xQVrwY8bGoCn",
        "colab_type": "code",
        "colab": {
          "base_uri": "https://localhost:8080/",
          "height": 123
        },
        "outputId": "4b9bf8e3-a5d8-477f-bbd4-000e9401d4a8"
      },
      "source": [
        "t = [ ]\n",
        "n=int(input(\"enter the number of tuples:\"))\n",
        "for i in range(0,n):\n",
        "    e=int(input(\"Enter the number:\"))\n",
        "    t.append((e, e*e))\n",
        "print(t)\n"
      ],
      "execution_count": 9,
      "outputs": [
        {
          "output_type": "stream",
          "text": [
            "enter the number of tuples:4\n",
            "Enter the number:1\n",
            "Enter the number:2\n",
            "Enter the number:3\n",
            "Enter the number:4\n",
            "[(1, 1), (2, 4), (3, 9), (4, 16)]\n"
          ],
          "name": "stdout"
        }
      ]
    },
    {
      "cell_type": "markdown",
      "metadata": {
        "id": "UptEmC26Gy9P",
        "colab_type": "text"
      },
      "source": [
        "Write python program to have a list of words to sort them from shortest to longest using list of tuples"
      ]
    },
    {
      "cell_type": "code",
      "metadata": {
        "id": "Wjkc9WEYGz_W",
        "colab_type": "code",
        "colab": {
          "base_uri": "https://localhost:8080/",
          "height": 34
        },
        "outputId": "900b479e-5c9c-43f0-e8e0-10fb9e9309da"
      },
      "source": [
        "def Sort_Tuple(tup):  \n",
        "    tup.sort(key = lambda x: x[1])  \n",
        "    return tup  \n",
        "tup = [('rishav', 10), ('akash', 5), ('ram', 20), ('gaurav', 15)]  \n",
        "print(Sort_Tuple(tup))"
      ],
      "execution_count": 10,
      "outputs": [
        {
          "output_type": "stream",
          "text": [
            "[('akash', 5), ('rishav', 10), ('gaurav', 15), ('ram', 20)]\n"
          ],
          "name": "stdout"
        }
      ]
    },
    {
      "cell_type": "markdown",
      "metadata": {
        "id": "L0g0hDjoG4Gh",
        "colab_type": "text"
      },
      "source": [
        "Write python program to get a list of tuples of Rollno,Name for 5 students through keyboard and sort them Rollno wise ascending order"
      ]
    },
    {
      "cell_type": "code",
      "metadata": {
        "id": "iN3Wwcn6Hm2P",
        "colab_type": "code",
        "colab": {
          "base_uri": "https://localhost:8080/",
          "height": 194
        },
        "outputId": "d4c8d5ee-460a-43d3-ed22-401a0a71d0e0"
      },
      "source": [
        "def Sort_Tuple(tup):  \n",
        "    lst = len(tup)  \n",
        "    for i in range(0, lst):  \n",
        "        for j in range(0, lst-i-1):  \n",
        "            if (tup[j][1] > tup[j + 1][1]):  \n",
        "                temp = tup[j]  \n",
        "                tup[j]= tup[j + 1]  \n",
        "                tup[j + 1]= temp \n",
        "    return tup\n",
        "tup =[]\n",
        "num = int(input(\"Number of students:\"))\n",
        "for i in range(0,num):\n",
        "     name = input(\" Name of student: \")\n",
        "     rollnum = input(\"Roll num of the student:\")\n",
        "     tup.append((name,rollnum))\n",
        "print(Sort_Tuple(tup))"
      ],
      "execution_count": 12,
      "outputs": [
        {
          "output_type": "stream",
          "text": [
            "Number of students:4\n",
            " Name of student: Jack sparrow\n",
            "Roll num of the student:1\n",
            " Name of student: Barbosa\n",
            "Roll num of the student:7\n",
            " Name of student: Davi jons\n",
            "Roll num of the student:9\n",
            " Name of student: gibbs\n",
            "Roll num of the student:4\n",
            "[('Jack sparrow', '1'), ('gibbs', '4'), ('Barbosa', '7'), ('Davi jons', '9')]\n"
          ],
          "name": "stdout"
        }
      ]
    },
    {
      "cell_type": "markdown",
      "metadata": {
        "id": "mf7exqUlH8Pv",
        "colab_type": "text"
      },
      "source": [
        "Write python program to get a list of tuples of Rollno,Name for 5 students through keyboard and sort them Rollno wise descending order"
      ]
    },
    {
      "cell_type": "code",
      "metadata": {
        "id": "kmhSdpOVH_le",
        "colab_type": "code",
        "colab": {
          "base_uri": "https://localhost:8080/",
          "height": 194
        },
        "outputId": "183600be-44d0-4fc9-a912-0f1aa9de76a8"
      },
      "source": [
        "def Sort_Tuple(tup):  \n",
        "    lst = len(tup)  \n",
        "    for i in range(0, lst):  \n",
        "        for j in range(0, lst-i-1):  \n",
        "            if (tup[j][1]<tup[j + 1][1]):  \n",
        "                temp = tup[j]  \n",
        "                tup[j]= tup[j + 1]  \n",
        "                tup[j + 1]= temp \n",
        "    return tup\n",
        "tup =[]\n",
        "num = int(input(\"Number of students:\"))\n",
        "for i in range(0,num):\n",
        "     name = input(\" Name of student: \")\n",
        "     rollnum = input(\"Roll num of the student:\")\n",
        "     tup.append((name,rollnum))\n",
        "print(Sort_Tuple(tup))"
      ],
      "execution_count": 13,
      "outputs": [
        {
          "output_type": "stream",
          "text": [
            "Number of students:4\n",
            " Name of student: Jack sparrow\n",
            "Roll num of the student:1\n",
            " Name of student: Barbosa\n",
            "Roll num of the student:7\n",
            " Name of student: Davi jons\n",
            "Roll num of the student:9\n",
            " Name of student: gibbs\n",
            "Roll num of the student:4\n",
            "[('Davi jons', '9'), ('Barbosa', '7'), ('gibbs', '4'), ('Jack sparrow', '1')]\n"
          ],
          "name": "stdout"
        }
      ]
    },
    {
      "cell_type": "markdown",
      "metadata": {
        "id": "QdUK0QNCIfK2",
        "colab_type": "text"
      },
      "source": [
        "Write python program to get a list of tuples of Rollno,Name for 5 students through keyboard and sort them by Name wise ascending order"
      ]
    },
    {
      "cell_type": "code",
      "metadata": {
        "id": "ZUIlweggIgX2",
        "colab_type": "code",
        "colab": {
          "base_uri": "https://localhost:8080/",
          "height": 194
        },
        "outputId": "415ea433-16d5-4ec4-d9a4-a44256fe9b06"
      },
      "source": [
        "def Sort_Tuple(tup):  \n",
        "    lst = len(tup)  \n",
        "    for i in range(0, lst):  \n",
        "        for j in range(0, lst-i-1):  \n",
        "            if (tup[j][0] > tup[j + 1][0]):  \n",
        "                temp = tup[j]  \n",
        "                tup[j]= tup[j + 1]  \n",
        "                tup[j + 1]= temp \n",
        "    return tup\n",
        "tup =[]\n",
        "num = int(input(\"Number of students:\"))\n",
        "for i in range(0,num):\n",
        "     name = input(\" Name of student: \")\n",
        "     rollnum = input(\"Roll num of the student:\")\n",
        "     tup.append((name,rollnum))\n",
        "print(Sort_Tuple(tup))"
      ],
      "execution_count": 14,
      "outputs": [
        {
          "output_type": "stream",
          "text": [
            "Number of students:4\n",
            " Name of student: Jack sparrow\n",
            "Roll num of the student:1\n",
            " Name of student: Barbosa\n",
            "Roll num of the student:7\n",
            " Name of student: Barbosa\n",
            "Roll num of the student:9\n",
            " Name of student: gibbs\n",
            "Roll num of the student:4\n",
            "[('Barbosa', '7'), ('Barbosa', '9'), ('Jack sparrow', '1'), ('gibbs', '4')]\n"
          ],
          "name": "stdout"
        }
      ]
    },
    {
      "cell_type": "markdown",
      "metadata": {
        "id": "Jp3e2jRMJAmp",
        "colab_type": "text"
      },
      "source": [
        "Write python program to get a list of tuples of Rollno,Name for 5 students through keyboard and sort them by Name wise descending order"
      ]
    },
    {
      "cell_type": "code",
      "metadata": {
        "id": "bz4BWa5zJECO",
        "colab_type": "code",
        "colab": {
          "base_uri": "https://localhost:8080/",
          "height": 194
        },
        "outputId": "777cc208-4d3b-4095-9267-e3ab29cfae67"
      },
      "source": [
        "def Sort_Tuple(tup):  \n",
        "    lst = len(tup)  \n",
        "    for i in range(0, lst):  \n",
        "        for j in range(0, lst-i-1):  \n",
        "            if (tup[j][0] < tup[j + 1][0]):  \n",
        "                temp = tup[j]  \n",
        "                tup[j]= tup[j + 1]  \n",
        "                tup[j + 1]= temp \n",
        "    return tup\n",
        "tup =[]\n",
        "num = int(input(\"Number of students:\"))\n",
        "for i in range(0,num):\n",
        "     name = input(\" Name of student: \")\n",
        "     rollnum = input(\"Roll num of the student:\")\n",
        "     tup.append((name,rollnum))\n",
        "print(Sort_Tuple(tup))"
      ],
      "execution_count": 15,
      "outputs": [
        {
          "output_type": "stream",
          "text": [
            "Number of students:4\n",
            " Name of student: Jack sparrow\n",
            "Roll num of the student:1\n",
            " Name of student: Barbosa\n",
            "Roll num of the student:7\n",
            " Name of student: Davi jons\n",
            "Roll num of the student:9\n",
            " Name of student: gibbs\n",
            "Roll num of the student:4\n",
            "[('gibbs', '4'), ('Jack sparrow', '1'), ('Davi jons', '9'), ('Barbosa', '7')]\n"
          ],
          "name": "stdout"
        }
      ]
    }
  ]
}